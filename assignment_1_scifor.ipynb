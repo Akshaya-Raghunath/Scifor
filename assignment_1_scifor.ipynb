{
  "nbformat": 4,
  "nbformat_minor": 0,
  "metadata": {
    "colab": {
      "provenance": [],
      "authorship_tag": "ABX9TyMNEEVu7mOCYXJiTCe+mhOh",
      "include_colab_link": true
    },
    "kernelspec": {
      "name": "python3",
      "display_name": "Python 3"
    },
    "language_info": {
      "name": "python"
    }
  },
  "cells": [
    {
      "cell_type": "markdown",
      "metadata": {
        "id": "view-in-github",
        "colab_type": "text"
      },
      "source": [
        "<a href=\"https://colab.research.google.com/github/Akshaya-Raghunath/Scifor/blob/main/assignment_1_scifor.ipynb\" target=\"_parent\"><img src=\"https://colab.research.google.com/assets/colab-badge.svg\" alt=\"Open In Colab\"/></a>"
      ]
    },
    {
      "cell_type": "markdown",
      "source": [
        "Q1. Create a python program to sort the given list of tuples based on integer value using a\n",
        "lambda function.\n",
        "[('Sachin Tendulkar', 34357), ('Ricky Ponting', 27483), ('Jack Kallis', 25534), ('Virat Kohli',\n",
        "24936)]\n"
      ],
      "metadata": {
        "id": "GNkIQxdqXGlw"
      }
    },
    {
      "cell_type": "code",
      "source": [
        "lst=[('sachin tendulkar',34357),('ricky ponting',27483),('jack kallis',25534),('virat kohli',24936)]\n",
        "sort=sorted(lst, key= lambda x:x[1])\n",
        "print('sorted based on integer value: ',sort)"
      ],
      "metadata": {
        "colab": {
          "base_uri": "https://localhost:8080/"
        },
        "id": "_1y5bjGlWTZp",
        "outputId": "197726df-5c67-4c49-8209-bdc35d337c12"
      },
      "execution_count": null,
      "outputs": [
        {
          "output_type": "stream",
          "name": "stdout",
          "text": [
            "sorted based on integer value:  [('virat kohli', 24936), ('jack kallis', 25534), ('ricky ponting', 27483), ('sachin tendulkar', 34357)]\n"
          ]
        }
      ]
    },
    {
      "cell_type": "markdown",
      "source": [
        "Q2. Write a Python Program to find the squares of all the numbers in the given list of integers\n",
        "using lambda and map functions.\n",
        "[1, 2, 3, 4, 5, 6, 7, 8, 9, 10]\n"
      ],
      "metadata": {
        "id": "9M9Ib2oEXNFN"
      }
    },
    {
      "cell_type": "code",
      "execution_count": null,
      "metadata": {
        "colab": {
          "base_uri": "https://localhost:8080/"
        },
        "id": "9pPMkD3mcqgZ",
        "outputId": "fe23db21-5706-4158-8466-69ceb3d0db9e"
      },
      "outputs": [
        {
          "output_type": "stream",
          "name": "stdout",
          "text": [
            "[1, 4, 9, 16, 25, 36, 49, 64, 81, 100]\n"
          ]
        }
      ],
      "source": [
        "lst=[1,2,3,4,5,6,7,8,9,10]\n",
        "n_lst=list(map(lambda a:a*a,lst))\n",
        "print(n_lst)"
      ]
    },
    {
      "cell_type": "markdown",
      "source": [
        "Q3. Write a python program to convert the given list of integers into a tuple of strings. Use map\n",
        "and lambda functions\n",
        "Given String: [1, 2, 3, 4, 5, 6, 7, 8, 9, 10]\n",
        "Expected output: ('1', '2', '3', '4', '5', '6', '7', '8', '9', '10')\n"
      ],
      "metadata": {
        "id": "QXHxbydvXX8c"
      }
    },
    {
      "cell_type": "code",
      "source": [
        "lst=[1,2,3,4,5,6,7,8,9,10]\n",
        "n_lst=tuple(map(lambda a:str(a),lst))\n",
        "print(n_lst)"
      ],
      "metadata": {
        "colab": {
          "base_uri": "https://localhost:8080/"
        },
        "id": "g3lm4f7zefeq",
        "outputId": "e58684b1-0924-48ff-e4c6-0fe38c7828d0"
      },
      "execution_count": null,
      "outputs": [
        {
          "output_type": "stream",
          "name": "stdout",
          "text": [
            "('1', '2', '3', '4', '5', '6', '7', '8', '9', '10')\n"
          ]
        }
      ]
    },
    {
      "cell_type": "markdown",
      "source": [
        "Q4. Write a python program using reduce function to compute the product of a list containing\n",
        "numbers from 1 to 25."
      ],
      "metadata": {
        "id": "jb8VDmLnXh9v"
      }
    },
    {
      "cell_type": "code",
      "source": [
        "from functools import reduce\n",
        "def multiply (x,y):\n",
        "  return x*y\n",
        "lst=list(range(1,26))\n",
        "prdt=reduce(multiply,lst)\n",
        "print(\"the product :\",prdt)"
      ],
      "metadata": {
        "colab": {
          "base_uri": "https://localhost:8080/"
        },
        "id": "wMrfrSxofvGp",
        "outputId": "06731d6d-82ee-43e8-d16e-1604ede1aed8"
      },
      "execution_count": null,
      "outputs": [
        {
          "output_type": "stream",
          "name": "stdout",
          "text": [
            "the product : 15511210043330985984000000\n"
          ]
        }
      ]
    },
    {
      "cell_type": "markdown",
      "source": [
        "Q5. Write a python program to filter the numbers in a given list that are divisible by 2 and 3\n",
        "[2, 3, 6, 9, 27, 60, 90, 120, 55, 46]\n"
      ],
      "metadata": {
        "id": "ZVwUI4jxXm_0"
      }
    },
    {
      "cell_type": "code",
      "source": [
        "lst=[2,3,6,9,27,60,90,120,55,46]\n",
        "n_lst=[i for i in lst if i%2==0 and i%3==0]\n",
        "print(\"numbers that are divisible by 2 and 3 :\",n_lst)"
      ],
      "metadata": {
        "colab": {
          "base_uri": "https://localhost:8080/"
        },
        "id": "xQbBHLYEhKAu",
        "outputId": "444b93d4-d68b-4c8c-df42-1ac6b8083330"
      },
      "execution_count": null,
      "outputs": [
        {
          "output_type": "stream",
          "name": "stdout",
          "text": [
            "numbers that are divisible by 2 and 3 : [6, 60, 90, 120]\n"
          ]
        }
      ]
    },
    {
      "cell_type": "markdown",
      "source": [
        "Q6. Write a python program to find palindromes in the given list of strings using lambda and\n",
        "filter function.\n",
        "['python', 'php', 'aba', 'radar', 'level']"
      ],
      "metadata": {
        "id": "IUqRlwjeX04u"
      }
    },
    {
      "cell_type": "code",
      "source": [
        "lst=['python','php','radar','aba','level']\n",
        "palindrome=lambda a:a==a[::-1]\n",
        "n=list(filter(palindrome,lst))\n",
        "print(\"the palindrome words: \",n)"
      ],
      "metadata": {
        "colab": {
          "base_uri": "https://localhost:8080/"
        },
        "id": "QQjav_fPh_UU",
        "outputId": "34fdac41-3e38-426a-d88c-bd48d733c57d"
      },
      "execution_count": null,
      "outputs": [
        {
          "output_type": "stream",
          "name": "stdout",
          "text": [
            "the palindrome words:  ['php', 'radar', 'aba', 'level']\n"
          ]
        }
      ]
    }
  ]
}